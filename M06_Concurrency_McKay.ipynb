{
 "cells": [
  {
   "cell_type": "code",
   "execution_count": 14,
   "id": "e8242784",
   "metadata": {},
   "outputs": [],
   "source": [
    "# 13.1\n",
    "from datetime import date, datetime\n",
    "\n",
    "current_date = date.today()\n",
    "date_string = current_date.strftime(\"%Y-%m-%d\")\n",
    "\n",
    "with open(\"today.txt\", \"w\") as file:\n",
    "    file.write(date_string)\n",
    "    "
   ]
  },
  {
   "cell_type": "code",
   "execution_count": 15,
   "id": "37436b4c",
   "metadata": {},
   "outputs": [],
   "source": [
    "# 13.2    \n",
    "with open(\"today.txt\", \"r\") as file:\n",
    "    today_string = file.read()"
   ]
  },
  {
   "cell_type": "code",
   "execution_count": 16,
   "id": "6bda9d66",
   "metadata": {},
   "outputs": [
    {
     "name": "stdout",
     "output_type": "stream",
     "text": [
      "Today's date is 2023-10-01\n"
     ]
    }
   ],
   "source": [
    "parsed_date = datetime.strptime(today_string, \"%Y-%m-%d\").date()\n",
    "print(f\"Today's date is {parsed_date}\")"
   ]
  },
  {
   "cell_type": "code",
   "execution_count": 17,
   "id": "778103f3",
   "metadata": {},
   "outputs": [
    {
     "name": "stdout",
     "output_type": "stream",
     "text": [
      "All processes have finished.\n"
     ]
    }
   ],
   "source": [
    "import multiprocessing\n",
    "import random\n",
    "\n",
    "def print_time_process():\n",
    "    sleep_time = random.uniform(0, 1)\n",
    "    time.sleep(sleep_time)\n",
    "    current_time = datetime.now().strftime(\"%Y-%m-%d %H:%M:%S\")\n",
    "    print(f\"Process {multiprocessing.current_process().name}: Current time is {current_time}\")\n",
    "    return\n",
    "\n",
    "if __name__ == \"__main__\":\n",
    "    processes = []\n",
    "    for i in range(3):\n",
    "        process = multiprocessing.Process(target=print_time_process, name=f\"Process-{i+1}\")\n",
    "        processes.append(process)\n",
    "        process.start()\n",
    "\n",
    "    for process in processes:\n",
    "        process.join()\n",
    "\n",
    "    print(\"All processes have finished.\")"
   ]
  },
  {
   "cell_type": "code",
   "execution_count": null,
   "id": "613ffdf3",
   "metadata": {},
   "outputs": [],
   "source": []
  }
 ],
 "metadata": {
  "kernelspec": {
   "display_name": "Python 3 (ipykernel)",
   "language": "python",
   "name": "python3"
  },
  "language_info": {
   "codemirror_mode": {
    "name": "ipython",
    "version": 3
   },
   "file_extension": ".py",
   "mimetype": "text/x-python",
   "name": "python",
   "nbconvert_exporter": "python",
   "pygments_lexer": "ipython3",
   "version": "3.11.4"
  }
 },
 "nbformat": 4,
 "nbformat_minor": 5
}
